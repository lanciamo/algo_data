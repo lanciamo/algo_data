{
 "cells": [
  {
   "cell_type": "markdown",
   "metadata": {},
   "source": [
    "## Урок 1. Алгоритм линейной регрессии. Градиентный спуск"
   ]
  },
  {
   "cell_type": "code",
   "execution_count": 2,
   "metadata": {
    "colab": {},
    "colab_type": "code",
    "id": "ak8b3KV45kVW"
   },
   "outputs": [],
   "source": [
    "import numpy as np\n",
    "import matplotlib.pyplot as plt"
   ]
  },
  {
   "cell_type": "markdown",
   "metadata": {},
   "source": [
    "__Задача:__ предсказание баллов ЕГЭ ученика в зависимости от кол-ва лет стажа его репетитора"
   ]
  },
  {
   "cell_type": "code",
   "execution_count": 3,
   "metadata": {
    "colab": {},
    "colab_type": "code",
    "id": "i77tZbAd5plB"
   },
   "outputs": [
    {
     "data": {
      "text/plain": [
       "array([[ 1,  1,  1,  1,  1,  1,  1,  1,  1,  1],\n",
       "       [ 1,  1,  2,  5,  3,  0,  5, 10,  1,  2]])"
      ]
     },
     "execution_count": 3,
     "metadata": {},
     "output_type": "execute_result"
    }
   ],
   "source": [
    "X = np.array([[1, 1, 1, 1, 1, 1, 1, 1, 1, 1],\n",
    "              [1, 1, 2, 5, 3, 0, 5, 10, 1, 2]])\n",
    "X"
   ]
  },
  {
   "cell_type": "code",
   "execution_count": 4,
   "metadata": {
    "colab": {},
    "colab_type": "code",
    "id": "JTSC2cFnCd8T"
   },
   "outputs": [],
   "source": [
    "def calc_mae(y, y_pred):\n",
    "    err = np.mean(np.abs(y - y_pred))\n",
    "    return err\n",
    "\n",
    "def calc_mse(y, y_pred):\n",
    "    err = np.mean((y - y_pred)**2) # <=> 1/n * np.sum((y_pred - y)**2)\n",
    "    return err"
   ]
  },
  {
   "cell_type": "code",
   "execution_count": 5,
   "metadata": {
    "colab": {},
    "colab_type": "code",
    "id": "VsNrKi1Q6Wmh"
   },
   "outputs": [],
   "source": [
    "y = [45, 55, 50, 55, 60, 35, 75, 80, 50, 60]"
   ]
  },
  {
   "cell_type": "markdown",
   "metadata": {},
   "source": [
    "### Д/З"
   ]
  },
  {
   "cell_type": "markdown",
   "metadata": {
    "colab_type": "text",
    "id": "huXrhXQsZTMt"
   },
   "source": [
    "1. Подберите скорость обучения (alpha) и количество итераций"
   ]
  },
  {
   "cell_type": "code",
   "execution_count": 42,
   "metadata": {
    "colab": {
     "base_uri": "https://localhost:8080/",
     "height": 185
    },
    "colab_type": "code",
    "id": "IDB22MQKMYaJ",
    "outputId": "4c03219e-a57c-4583-f439-6699fd0619bb"
   },
   "outputs": [
    {
     "name": "stdout",
     "output_type": "stream",
     "text": [
      "Number of objects = 10        \n",
      "Learning rate = 0.01        \n",
      "Initial weights = [1.  0.5] \n",
      "\n",
      "Iteration #0: W_new = [2.08 4.27], MSE = 3047.75\n",
      "Iteration #30: W_new = [13.13216754  9.60254602], MSE = 532.78\n",
      "Iteration #60: W_new = [20.41811023  8.28138011], MSE = 335.01\n",
      "Iteration #90: W_new = [25.89688313  7.28788912], MSE = 219.9\n",
      "Iteration #120: W_new = [30.04765152  6.53521127], MSE = 151.89\n",
      "Iteration #150: W_new = [33.21521699  5.96082211], MSE = 111.13\n",
      "Iteration #180: W_new = [35.64956103  5.51939135], MSE = 86.34\n",
      "Iteration #210: W_new = [37.53324341  5.17781459], MSE = 71.07\n",
      "Iteration #240: W_new = [39.00053196  4.91174444], MSE = 61.53\n",
      "Iteration #270: W_new = [40.1508578   4.70315058], MSE = 55.49\n",
      "Iteration #300: W_new = [41.05834721  4.53859137], MSE = 51.62\n",
      "Iteration #330: W_new = [41.77862149  4.40798074], MSE = 49.12\n",
      "Iteration #360: W_new = [42.35368066  4.30370262], MSE = 47.47\n",
      "Iteration #390: W_new = [42.81543436  4.21997071], MSE = 46.38\n",
      "Iteration #420: W_new = [43.18827102  4.15236253], MSE = 45.64\n",
      "Iteration #450: W_new = [43.49093904  4.09747835], MSE = 45.15\n",
      "Iteration #480: W_new = [43.73793253  4.05268989], MSE = 44.8\n",
      "Iteration #510: W_new = [43.94051834  4.01595408], MSE = 44.57\n",
      "Iteration #540: W_new = [44.10750138  3.98567427], MSE = 44.4\n",
      "Iteration #570: W_new = [44.24579843  3.96059624], MSE = 44.29\n",
      "Iteration #600: W_new = [44.36087045  3.9397297 ], MSE = 44.2\n",
      "Iteration #630: W_new = [44.45705023  3.92228898], MSE = 44.14\n",
      "Iteration #660: W_new = [44.53779191  3.90764772], MSE = 44.1\n",
      "Iteration #690: W_new = [44.60586194  3.89530427], MSE = 44.07\n",
      "Iteration #720: W_new = [44.66348609  3.88485502], MSE = 44.04\n",
      "Iteration #750: W_new = [44.71246293  3.87597383], MSE = 44.03\n",
      "Iteration #780: W_new = [44.75425213  3.868396  ], MSE = 44.01\n",
      "Iteration #810: W_new = [44.79004323  3.86190583], MSE = 44.0\n",
      "Iteration #840: W_new = [44.82080955  3.85632684], MSE = 44.0\n",
      "Iteration #870: W_new = [44.84735067  3.85151401], MSE = 43.99\n",
      "Iteration #900: W_new = [44.87032597  3.8473478 ], MSE = 43.99\n",
      "Iteration #930: W_new = [44.89028121  3.84372922], MSE = 43.98\n",
      "Iteration #960: W_new = [44.90766981  3.84057607], MSE = 43.98\n",
      "Iteration #990: W_new = [44.92286977  3.83781979], MSE = 43.98\n",
      "Iteration #1020: W_new = [44.93619734  3.83540304], MSE = 43.98\n",
      "Iteration #1050: W_new = [44.94791796  3.83327769], MSE = 43.97\n",
      "Iteration #1080: W_new = [44.95825518  3.83140319], MSE = 43.97\n",
      "Iteration #1110: W_new = [44.96739788  3.8297453 ], MSE = 43.97\n",
      "Iteration #1140: W_new = [44.97550611  3.828275  ], MSE = 43.97\n",
      "Iteration #1170: W_new = [44.98271593  3.82696761], MSE = 43.97\n",
      "Iteration #1200: W_new = [44.98914335  3.8258021 ], MSE = 43.97\n",
      "Iteration #1230: W_new = [44.99488756  3.82476047], MSE = 43.97\n",
      "Iteration #1260: W_new = [45.00003358  3.82382732], MSE = 43.97\n",
      "Iteration #1290: W_new = [45.00465455  3.82298938], MSE = 43.97\n",
      "Iteration #1320: W_new = [45.00881349  3.82223522], MSE = 43.97\n",
      "Iteration #1350: W_new = [45.01256488  3.82155496], MSE = 43.97\n",
      "Iteration #1380: W_new = [45.01595593  3.82094005], MSE = 43.97\n",
      "Iteration #1410: W_new = [45.01902764  3.82038304], MSE = 43.97\n",
      "Iteration #1440: W_new = [45.02181571  3.81987747], MSE = 43.97\n",
      "Iteration #1470: W_new = [45.02435132  3.81941767], MSE = 43.97\n"
     ]
    }
   ],
   "source": [
    "n = X.shape[1]\n",
    "alpha = 1e-2\n",
    "W = np.array([1, 0.5])\n",
    "print(f'Number of objects = {n} \\\n",
    "       \\nLearning rate = {alpha} \\\n",
    "       \\nInitial weights = {W} \\n')\n",
    "\n",
    "for i in range(1500):\n",
    "    y_pred = np.dot(W, X)\n",
    "    err = calc_mse(y, y_pred)\n",
    "    for k in range(W.shape[0]):\n",
    "        W[k] -= alpha * (1/n * 2 * np.sum(X[k] * (y_pred - y)))\n",
    "    if i % 30 == 0:\n",
    "        alpha /= 1.03\n",
    "        print(f'Iteration #{i}: W_new = {W}, MSE = {round(err,2)}')\n",
    "#     if i % 500 == 0:\n",
    "#         alpha /= 1.1"
   ]
  },
  {
   "cell_type": "markdown",
   "metadata": {
    "colab_type": "text",
    "id": "5Qu1o4JhZYwI"
   },
   "source": [
    "*2. В этом коде мы избавляемся от итераций по весам, но тут есть ошибка, исправьте ее"
   ]
  },
  {
   "cell_type": "code",
   "execution_count": 27,
   "metadata": {
    "colab": {
     "base_uri": "https://localhost:8080/",
     "height": 185
    },
    "colab_type": "code",
    "id": "WZZzDCQLY4pA",
    "outputId": "28f58ade-72f2-4381-809d-2417752d56e4",
    "scrolled": true
   },
   "outputs": [
    {
     "name": "stdout",
     "output_type": "stream",
     "text": [
      "Number of objects = 10        \n",
      "Learning rate = 0.01        \n",
      "Initial weights = [1.  0.5] \n",
      "\n",
      "Iteration #0: W_new = [2.08 4.27], MSE = 3047.75\n",
      "Iteration #100: W_new = [28.38281518  6.83710367], MSE = 177.43\n",
      "Iteration #200: W_new = [38.38986469  5.02247953], MSE = 65.33\n",
      "Iteration #300: W_new = [42.39314129  4.29654705], MSE = 47.39\n",
      "Iteration #400: W_new = [43.99463466  4.00614091], MSE = 44.52\n",
      "Iteration #500: W_new = [44.63530512  3.8899652 ], MSE = 44.06\n",
      "Iteration #600: W_new = [44.89160255  3.84348962], MSE = 43.98\n",
      "Iteration #700: W_new = [44.99413322  3.82489726], MSE = 43.97\n",
      "Iteration #800: W_new = [45.03515017  3.81745947], MSE = 43.97\n",
      "Iteration #900: W_new = [45.05155882  3.81448401], MSE = 43.97\n"
     ]
    }
   ],
   "source": [
    "n = X.shape[1]\n",
    "alpha = 1e-2\n",
    "W = np.array([1, 0.5])\n",
    "print(f'Number of objects = {n} \\\n",
    "       \\nLearning rate = {alpha} \\\n",
    "       \\nInitial weights = {W} \\n')\n",
    "\n",
    "for i in range(1000):\n",
    "    y_pred = np.dot(W, X)\n",
    "    err = calc_mse(y, y_pred)\n",
    "#     for k in range(W.shape[0]):\n",
    "#         W[k] -= alpha * (1/n * 2 * np.sum(X[k] * (y_pred - y)))\n",
    "    W -= alpha * (1/n * 2 * X @ (y_pred - y))\n",
    "    W_pred = W\n",
    "    if i % 100 == 0:\n",
    "        print(f'Iteration #{i}: W_new = {W}, MSE = {round(err,2)}')"
   ]
  },
  {
   "cell_type": "markdown",
   "metadata": {
    "colab_type": "text",
    "id": "5Qu1o4JhZYwI"
   },
   "source": [
    "*3."
   ]
  },
  {
   "cell_type": "code",
   "execution_count": 21,
   "metadata": {},
   "outputs": [
    {
     "name": "stdout",
     "output_type": "stream",
     "text": [
      "Number of objects = 10        \n",
      "Learning rate = 0.01        \n",
      "Initial weights = [1.  0.5] \n",
      "\n",
      "Iteration #30: W_new = [13.09636548  9.60903915], MSE = 534.14, 9.06450707132933\n",
      "Iteration #60: W_new = [20.5822897  8.2516087], MSE = 331.29, 5.156433799917465\n",
      "Iteration #90: W_new = [26.16824213  7.23868235], MSE = 215.04, 2.9795172751366295\n",
      "Iteration #120: W_new = [30.36868487  6.47699682], MSE = 147.38, 1.7479704182771911\n",
      "Iteration #150: W_new = [33.55097865  5.89993691], MSE = 107.41, 1.0406875809363498\n",
      "Iteration #180: W_new = [35.97947452  5.45956663], MSE = 83.44, 0.628516859240051\n",
      "Iteration #210: W_new = [37.84582725  5.12113234], MSE = 68.88, 0.3848942826542583\n",
      "Iteration #240: W_new = [39.29000099  4.85925369], MSE = 59.9, 0.2389004957041152\n",
      "Iteration #270: W_new = [40.41493565  4.65526414], MSE = 54.29, 0.15023531362485443\n",
      "Iteration #300: W_new = [41.29686266  4.49534027], MSE = 50.74, 0.0956841025264552\n",
      "Iteration #330: W_new = [41.99261286  4.3691767 ], MSE = 48.47, 0.06169623297553528\n",
      "Iteration #360: W_new = [42.54482973  4.26904068], MSE = 46.99, 0.04025980801568352\n",
      "Iteration #390: W_new = [42.98571369  4.18909318], MSE = 46.03, 0.026578267311208492\n",
      "Iteration #420: W_new = [43.33972909  4.12489794], MSE = 45.38, 0.01774498999969154\n",
      "Iteration #450: W_new = [43.62557395  4.07306438], MSE = 44.95, 0.011977758551623197\n",
      "Iteration #480: W_new = [43.8576222   4.03098601], MSE = 44.66, 0.008171219039226685\n",
      "Iteration #510: W_new = [44.04698614  3.99664778], MSE = 44.46, 0.0056321544617006225\n",
      "Iteration #540: W_new = [44.20230378  3.96848332], MSE = 44.32, 0.003921096682645953\n",
      "Iteration #570: W_new = [44.33032565  3.94526853], MSE = 44.22, 0.0027565036974408486\n",
      "Iteration #600: W_new = [44.43635465  3.92604181], MSE = 44.16, 0.0019561589167764737\n",
      "Iteration #630: W_new = [44.52457758  3.91004394], MSE = 44.11, 0.0014009554980987104\n",
      "Iteration #660: W_new = [44.5983163   3.89667256], MSE = 44.07, 0.0010122851169711566\n",
      "Iteration #690: W_new = [44.66021899  3.88544746], MSE = 44.05, 0.000737779772926217\n",
      "Iteration #720: W_new = [44.71240664  3.87598403], MSE = 44.03, 0.0005422335856337668\n",
      "Iteration #750: W_new = [44.75658568  3.86797285], MSE = 44.01, 0.00040176812557035646\n",
      "Iteration #780: W_new = [44.79413504  3.86116385], MSE = 44.0, 0.00030004796353466645\n",
      "Iteration #810: W_new = [44.82617381  3.85535411], MSE = 44.0, 0.00022580409123662548\n",
      "Iteration #840: W_new = [44.85361398  3.85037826], MSE = 43.99, 0.00017119913655960772\n",
      "Iteration #870: W_new = [44.87720178  3.84610098], MSE = 43.99, 0.0001307391187665985\n",
      "Iteration #900: W_new = [44.89755021  3.8424111 ], MSE = 43.98, 0.00010054306208218122\n",
      "Iteration #930: W_new = [44.91516481  3.83921696], MSE = 43.98, 7.784886312833805e-05\n",
      "Iteration #960: W_new = [44.93046402  3.83644269], MSE = 43.98, 6.067638611284565e-05\n",
      "Iteration #990: W_new = [44.94379543  3.83402524], MSE = 43.98, 4.75960144825649e-05\n",
      "Iteration #1020: W_new = [44.95544888  3.83191207], MSE = 43.97, 3.7568474795079965e-05\n",
      "Iteration #1050: W_new = [44.9656668   3.83005921], MSE = 43.97, 2.98331879662328e-05\n",
      "Iteration #1080: W_new = [44.97465272  3.82842975], MSE = 43.97, 2.382990081173375e-05\n",
      "Iteration #1110: W_new = [44.98257802  3.82699262], MSE = 43.97, 1.9143302758095615e-05\n",
      "Iteration #1140: W_new = [44.9895875   3.82572156], MSE = 43.97, 1.5463626027667488e-05\n",
      "Iteration #1170: W_new = [44.99580388  3.82459431], MSE = 43.97, 1.255843536540624e-05\n",
      "Iteration #1200: W_new = [45.00133148  3.82359197], MSE = 43.97, 1.0252302281799075e-05\n"
     ]
    }
   ],
   "source": [
    "Previous1 = 10000\n",
    "Previous2 = 8000\n",
    "i = 0\n",
    "n = X.shape[1]\n",
    "alpha = 1e-2\n",
    "W = np.array([1, 0.5])\n",
    "print(f'Number of objects = {n} \\\n",
    "       \\nLearning rate = {alpha} \\\n",
    "       \\nInitial weights = {W} \\n')\n",
    "\n",
    "while (Previous1 - Previous2) > 1e-5:\n",
    "    Previous1 = Previous2\n",
    "    y_pred = np.dot(W, X)\n",
    "    err = calc_mse(y, y_pred)\n",
    "    W -= alpha * (1/n * 2 * X @ (y_pred - y))\n",
    "    W_pred = W\n",
    "    Previous2 = err\n",
    "    i += 1\n",
    "    if i % 30 == 0:\n",
    "        alpha /= 1.03\n",
    "        print(f'Iteration #{i}: W_new = {W}, MSE = {round(err,2)}, {(Previous1 - Previous2)}')"
   ]
  },
  {
   "cell_type": "code",
   "execution_count": null,
   "metadata": {},
   "outputs": [],
   "source": []
  }
 ],
 "metadata": {
  "colab": {
   "collapsed_sections": [],
   "name": "Lesson1.ipynb",
   "provenance": []
  },
  "kernelspec": {
   "display_name": "Python 3",
   "language": "python",
   "name": "python3"
  },
  "language_info": {
   "codemirror_mode": {
    "name": "ipython",
    "version": 3
   },
   "file_extension": ".py",
   "mimetype": "text/x-python",
   "name": "python",
   "nbconvert_exporter": "python",
   "pygments_lexer": "ipython3",
   "version": "3.7.6"
  }
 },
 "nbformat": 4,
 "nbformat_minor": 1
}
